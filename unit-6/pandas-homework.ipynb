{
 "cells": [
  {
   "cell_type": "code",
   "execution_count": 1,
   "metadata": {},
   "outputs": [],
   "source": [
    "import pandas as pd\n",
    "import matplotlib.pyplot as plt\n",
    "\n",
    "%matplotlib inline\n"
   ]
  },
  {
   "cell_type": "code",
   "execution_count": 16,
   "metadata": {},
   "outputs": [],
   "source": [
    "#read in the file 'Homicide.csv' and store it in a variable called homicide\n",
    "homicide = pd.read_csv('Homicide.csv')"
   ]
  },
  {
   "cell_type": "code",
   "execution_count": 17,
   "metadata": {},
   "outputs": [
    {
     "data": {
      "text/plain": [
       "(1015, 13)"
      ]
     },
     "execution_count": 17,
     "metadata": {},
     "output_type": "execute_result"
    }
   ],
   "source": [
    "#how many rows are in the dataset\n",
    "homicide.shape"
   ]
  },
  {
   "cell_type": "code",
   "execution_count": 18,
   "metadata": {},
   "outputs": [
    {
     "data": {
      "text/plain": [
       "Index(['X', 'Y', 'Index_', 'Event_Unique_ID', 'Occurrence_year', 'Division',\n",
       "       'Homicide_Type', 'Occurrence_Date', 'Hood_ID', 'Neighbourhood', 'Lat',\n",
       "       'Long', 'ObjectId'],\n",
       "      dtype='object')"
      ]
     },
     "execution_count": 18,
     "metadata": {},
     "output_type": "execute_result"
    }
   ],
   "source": [
    "#list the names of all the columns in the dataset\n",
    "homicide.columns"
   ]
  },
  {
   "cell_type": "code",
   "execution_count": 19,
   "metadata": {},
   "outputs": [
    {
     "data": {
      "text/html": [
       "<div>\n",
       "<style scoped>\n",
       "    .dataframe tbody tr th:only-of-type {\n",
       "        vertical-align: middle;\n",
       "    }\n",
       "\n",
       "    .dataframe tbody tr th {\n",
       "        vertical-align: top;\n",
       "    }\n",
       "\n",
       "    .dataframe thead th {\n",
       "        text-align: right;\n",
       "    }\n",
       "</style>\n",
       "<table border=\"1\" class=\"dataframe\">\n",
       "  <thead>\n",
       "    <tr style=\"text-align: right;\">\n",
       "      <th></th>\n",
       "      <th>X</th>\n",
       "      <th>Y</th>\n",
       "      <th>Event_Unique_ID</th>\n",
       "      <th>Occurrence_year</th>\n",
       "      <th>Division</th>\n",
       "      <th>Homicide_Type</th>\n",
       "      <th>Occurrence_Date</th>\n",
       "      <th>Hood_ID</th>\n",
       "      <th>Neighbourhood</th>\n",
       "      <th>Lat</th>\n",
       "      <th>Long</th>\n",
       "      <th>ObjectId</th>\n",
       "    </tr>\n",
       "    <tr>\n",
       "      <th>Index_</th>\n",
       "      <th></th>\n",
       "      <th></th>\n",
       "      <th></th>\n",
       "      <th></th>\n",
       "      <th></th>\n",
       "      <th></th>\n",
       "      <th></th>\n",
       "      <th></th>\n",
       "      <th></th>\n",
       "      <th></th>\n",
       "      <th></th>\n",
       "      <th></th>\n",
       "    </tr>\n",
       "  </thead>\n",
       "  <tbody>\n",
       "    <tr>\n",
       "      <td>1</td>\n",
       "      <td>-79.392853</td>\n",
       "      <td>43.685028</td>\n",
       "      <td>111878</td>\n",
       "      <td>2004</td>\n",
       "      <td>D53</td>\n",
       "      <td>Other</td>\n",
       "      <td>2004-01-03T05:00:00.000Z</td>\n",
       "      <td>98</td>\n",
       "      <td>Rosedale-Moore Park (98)</td>\n",
       "      <td>43.685028</td>\n",
       "      <td>-79.392853</td>\n",
       "      <td>1</td>\n",
       "    </tr>\n",
       "    <tr>\n",
       "      <td>2</td>\n",
       "      <td>-79.234962</td>\n",
       "      <td>43.781536</td>\n",
       "      <td>125755</td>\n",
       "      <td>2004</td>\n",
       "      <td>D42</td>\n",
       "      <td>Shooting</td>\n",
       "      <td>2004-01-08T05:00:00.000Z</td>\n",
       "      <td>137</td>\n",
       "      <td>Woburn (137)</td>\n",
       "      <td>43.781536</td>\n",
       "      <td>-79.234962</td>\n",
       "      <td>2</td>\n",
       "    </tr>\n",
       "    <tr>\n",
       "      <td>3</td>\n",
       "      <td>-79.206894</td>\n",
       "      <td>43.810860</td>\n",
       "      <td>136086</td>\n",
       "      <td>2004</td>\n",
       "      <td>D42</td>\n",
       "      <td>Shooting</td>\n",
       "      <td>2004-01-08T05:00:00.000Z</td>\n",
       "      <td>132</td>\n",
       "      <td>Malvern (132)</td>\n",
       "      <td>43.810860</td>\n",
       "      <td>-79.206894</td>\n",
       "      <td>3</td>\n",
       "    </tr>\n",
       "    <tr>\n",
       "      <td>4</td>\n",
       "      <td>-79.434403</td>\n",
       "      <td>43.670475</td>\n",
       "      <td>148623</td>\n",
       "      <td>2004</td>\n",
       "      <td>D13</td>\n",
       "      <td>Shooting</td>\n",
       "      <td>2004-01-25T05:00:00.000Z</td>\n",
       "      <td>93</td>\n",
       "      <td>Dovercourt-Wallace Emerson-Junction (93)</td>\n",
       "      <td>43.670475</td>\n",
       "      <td>-79.434403</td>\n",
       "      <td>4</td>\n",
       "    </tr>\n",
       "    <tr>\n",
       "      <td>5</td>\n",
       "      <td>-79.203865</td>\n",
       "      <td>43.823543</td>\n",
       "      <td>148619</td>\n",
       "      <td>2004</td>\n",
       "      <td>D42</td>\n",
       "      <td>Shooting</td>\n",
       "      <td>2004-01-25T05:00:00.000Z</td>\n",
       "      <td>131</td>\n",
       "      <td>Rouge (131)</td>\n",
       "      <td>43.823543</td>\n",
       "      <td>-79.203865</td>\n",
       "      <td>5</td>\n",
       "    </tr>\n",
       "    <tr>\n",
       "      <td>...</td>\n",
       "      <td>...</td>\n",
       "      <td>...</td>\n",
       "      <td>...</td>\n",
       "      <td>...</td>\n",
       "      <td>...</td>\n",
       "      <td>...</td>\n",
       "      <td>...</td>\n",
       "      <td>...</td>\n",
       "      <td>...</td>\n",
       "      <td>...</td>\n",
       "      <td>...</td>\n",
       "      <td>...</td>\n",
       "    </tr>\n",
       "    <tr>\n",
       "      <td>1235</td>\n",
       "      <td>-79.374847</td>\n",
       "      <td>43.660656</td>\n",
       "      <td>GO-20182242344</td>\n",
       "      <td>2018</td>\n",
       "      <td>D51</td>\n",
       "      <td>Stabbing</td>\n",
       "      <td>2018-12-06T05:00:00.000Z</td>\n",
       "      <td>73</td>\n",
       "      <td>Moss Park (73)</td>\n",
       "      <td>43.660656</td>\n",
       "      <td>-79.374847</td>\n",
       "      <td>1011</td>\n",
       "    </tr>\n",
       "    <tr>\n",
       "      <td>1236</td>\n",
       "      <td>-79.548676</td>\n",
       "      <td>43.701328</td>\n",
       "      <td>GO-20182280579</td>\n",
       "      <td>2018</td>\n",
       "      <td>D23</td>\n",
       "      <td>Shooting</td>\n",
       "      <td>2018-12-12T05:00:00.000Z</td>\n",
       "      <td>6</td>\n",
       "      <td>Kingsview Village-The Westway (6)</td>\n",
       "      <td>43.701328</td>\n",
       "      <td>-79.548676</td>\n",
       "      <td>1012</td>\n",
       "    </tr>\n",
       "    <tr>\n",
       "      <td>1237</td>\n",
       "      <td>-79.517776</td>\n",
       "      <td>43.759018</td>\n",
       "      <td>GO-20182315055</td>\n",
       "      <td>2018</td>\n",
       "      <td>D31</td>\n",
       "      <td>Shooting</td>\n",
       "      <td>2018-12-18T05:00:00.000Z</td>\n",
       "      <td>24</td>\n",
       "      <td>Black Creek (24)</td>\n",
       "      <td>43.759018</td>\n",
       "      <td>-79.517776</td>\n",
       "      <td>1013</td>\n",
       "    </tr>\n",
       "    <tr>\n",
       "      <td>1238</td>\n",
       "      <td>-79.397644</td>\n",
       "      <td>43.644955</td>\n",
       "      <td>GO-20182320758</td>\n",
       "      <td>2018</td>\n",
       "      <td>D14</td>\n",
       "      <td>Shooting</td>\n",
       "      <td>2018-12-19T05:00:00.000Z</td>\n",
       "      <td>77</td>\n",
       "      <td>Waterfront Communities-The Island (77)</td>\n",
       "      <td>43.644955</td>\n",
       "      <td>-79.397644</td>\n",
       "      <td>1014</td>\n",
       "    </tr>\n",
       "    <tr>\n",
       "      <td>1240</td>\n",
       "      <td>-79.585831</td>\n",
       "      <td>43.750977</td>\n",
       "      <td>GO-20182339244</td>\n",
       "      <td>2018</td>\n",
       "      <td>D23</td>\n",
       "      <td>Shooting</td>\n",
       "      <td>2018-12-21T05:00:00.000Z</td>\n",
       "      <td>2</td>\n",
       "      <td>Mount Olive-Silverstone-Jamestown (2)</td>\n",
       "      <td>43.750977</td>\n",
       "      <td>-79.585831</td>\n",
       "      <td>1015</td>\n",
       "    </tr>\n",
       "  </tbody>\n",
       "</table>\n",
       "<p>1015 rows × 12 columns</p>\n",
       "</div>"
      ],
      "text/plain": [
       "                X          Y Event_Unique_ID  Occurrence_year Division  \\\n",
       "Index_                                                                   \n",
       "1      -79.392853  43.685028          111878             2004      D53   \n",
       "2      -79.234962  43.781536          125755             2004      D42   \n",
       "3      -79.206894  43.810860          136086             2004      D42   \n",
       "4      -79.434403  43.670475          148623             2004      D13   \n",
       "5      -79.203865  43.823543          148619             2004      D42   \n",
       "...           ...        ...             ...              ...      ...   \n",
       "1235   -79.374847  43.660656  GO-20182242344             2018      D51   \n",
       "1236   -79.548676  43.701328  GO-20182280579             2018      D23   \n",
       "1237   -79.517776  43.759018  GO-20182315055             2018      D31   \n",
       "1238   -79.397644  43.644955  GO-20182320758             2018      D14   \n",
       "1240   -79.585831  43.750977  GO-20182339244             2018      D23   \n",
       "\n",
       "       Homicide_Type           Occurrence_Date  Hood_ID  \\\n",
       "Index_                                                    \n",
       "1              Other  2004-01-03T05:00:00.000Z       98   \n",
       "2           Shooting  2004-01-08T05:00:00.000Z      137   \n",
       "3           Shooting  2004-01-08T05:00:00.000Z      132   \n",
       "4           Shooting  2004-01-25T05:00:00.000Z       93   \n",
       "5           Shooting  2004-01-25T05:00:00.000Z      131   \n",
       "...              ...                       ...      ...   \n",
       "1235        Stabbing  2018-12-06T05:00:00.000Z       73   \n",
       "1236        Shooting  2018-12-12T05:00:00.000Z        6   \n",
       "1237        Shooting  2018-12-18T05:00:00.000Z       24   \n",
       "1238        Shooting  2018-12-19T05:00:00.000Z       77   \n",
       "1240        Shooting  2018-12-21T05:00:00.000Z        2   \n",
       "\n",
       "                                   Neighbourhood        Lat       Long  \\\n",
       "Index_                                                                   \n",
       "1                       Rosedale-Moore Park (98)  43.685028 -79.392853   \n",
       "2                                   Woburn (137)  43.781536 -79.234962   \n",
       "3                                  Malvern (132)  43.810860 -79.206894   \n",
       "4       Dovercourt-Wallace Emerson-Junction (93)  43.670475 -79.434403   \n",
       "5                                    Rouge (131)  43.823543 -79.203865   \n",
       "...                                          ...        ...        ...   \n",
       "1235                              Moss Park (73)  43.660656 -79.374847   \n",
       "1236           Kingsview Village-The Westway (6)  43.701328 -79.548676   \n",
       "1237                            Black Creek (24)  43.759018 -79.517776   \n",
       "1238      Waterfront Communities-The Island (77)  43.644955 -79.397644   \n",
       "1240       Mount Olive-Silverstone-Jamestown (2)  43.750977 -79.585831   \n",
       "\n",
       "        ObjectId  \n",
       "Index_            \n",
       "1              1  \n",
       "2              2  \n",
       "3              3  \n",
       "4              4  \n",
       "5              5  \n",
       "...          ...  \n",
       "1235        1011  \n",
       "1236        1012  \n",
       "1237        1013  \n",
       "1238        1014  \n",
       "1240        1015  \n",
       "\n",
       "[1015 rows x 12 columns]"
      ]
     },
     "execution_count": 19,
     "metadata": {},
     "output_type": "execute_result"
    }
   ],
   "source": [
    "#replace the default index with the values of the 'Index_' column\n",
    "homicide.set_index(['Index_'])"
   ]
  },
  {
   "cell_type": "code",
   "execution_count": 20,
   "metadata": {},
   "outputs": [
    {
     "data": {
      "text/plain": [
       "Shooting    526\n",
       "Other       263\n",
       "Stabbing    226\n",
       "Name: Homicide_Type, dtype: int64"
      ]
     },
     "execution_count": 20,
     "metadata": {},
     "output_type": "execute_result"
    }
   ],
   "source": [
    "#list the types of homicides in the order of their frequency\n",
    "homicide['Homicide_Type'].value_counts()"
   ]
  },
  {
   "cell_type": "code",
   "execution_count": 21,
   "metadata": {},
   "outputs": [
    {
     "data": {
      "text/plain": [
       "<matplotlib.axes._subplots.AxesSubplot at 0x2353c2ee388>"
      ]
     },
     "execution_count": 21,
     "metadata": {},
     "output_type": "execute_result"
    },
    {
     "data": {
      "image/png": "[encoded data removed]",
      "text/plain": [
       "<Figure size 432x288 with 1 Axes>"
      ]
     },
     "metadata": {
      "needs_background": "light"
     },
     "output_type": "display_data"
    }
   ],
   "source": [
    "#plot the homicide types and their frequencies on a bar chart\n",
    "homicide['Homicide_Type'].value_counts().plot.bar()"
   ]
  },
  {
   "cell_type": "code",
   "execution_count": 23,
   "metadata": {},
   "outputs": [
    {
     "data": {
      "text/plain": [
       "Occurrence_year\n",
       "2005    53\n",
       "2018    51\n",
       "2007    44\n",
       "2016    41\n",
       "2017    39\n",
       "2009    37\n",
       "2008    37\n",
       "2012    34\n",
       "2010    32\n",
       "2006    29\n",
       "2011    28\n",
       "2014    27\n",
       "2015    26\n",
       "2004    26\n",
       "2013    22\n",
       "Name: Homicide_Type, dtype: int64"
      ]
     },
     "execution_count": 23,
     "metadata": {},
     "output_type": "execute_result"
    }
   ],
   "source": [
    "#find the year with the highest number of shootings\n",
    "homicide[homicide['Homicide_Type']=='Shooting'].groupby('Occurrence_year')['Homicide_Type'].count().sort_values(ascending=False)"
   ]
  },
  {
   "cell_type": "code",
   "execution_count": 33,
   "metadata": {},
   "outputs": [
    {
     "data": {
      "text/plain": [
       "X                  float64\n",
       "Y                  float64\n",
       "Index_               int64\n",
       "Event_Unique_ID     object\n",
       "Occurrence_year      int64\n",
       "Division            object\n",
       "Homicide_Type       object\n",
       "Occurrence_Date     object\n",
       "Hood_ID              int64\n",
       "Neighbourhood       object\n",
       "Lat                float64\n",
       "Long               float64\n",
       "ObjectId             int64\n",
       "dtype: object"
      ]
     },
     "execution_count": 33,
     "metadata": {},
     "output_type": "execute_result"
    }
   ],
   "source": [
    "#for 2018, list the months with the highest and lowest homicides\n",
    "#create a column for month\n",
    "\n",
    "homicide.dtypes\n"
   ]
  },
  {
   "cell_type": "code",
   "execution_count": 47,
   "metadata": {},
   "outputs": [],
   "source": [
    "homicide['month'] = pd.DatetimeIndex(homicide['Occurrence_Date']).month"
   ]
  },
  {
   "cell_type": "code",
   "execution_count": 48,
   "metadata": {},
   "outputs": [],
   "source": [
    "def get_month_name(val):\n",
    "    months = ['jan','feb','mar','apr','may','jun','jul','aug','sep','oct','nov','dec']\n",
    "    \n",
    "    try:\n",
    "        return months[val-1]\n",
    "    \n",
    "    except:\n",
    "        return val     \n",
    "    "
   ]
  },
  {
   "cell_type": "code",
   "execution_count": 49,
   "metadata": {},
   "outputs": [],
   "source": [
    "homicide['month'] = homicide['month'].apply(get_month_name)"
   ]
  },
  {
   "cell_type": "code",
   "execution_count": 50,
   "metadata": {},
   "outputs": [
    {
     "data": {
      "text/html": [
       "<div>\n",
       "<style scoped>\n",
       "    .dataframe tbody tr th:only-of-type {\n",
       "        vertical-align: middle;\n",
       "    }\n",
       "\n",
       "    .dataframe tbody tr th {\n",
       "        vertical-align: top;\n",
       "    }\n",
       "\n",
       "    .dataframe thead th {\n",
       "        text-align: right;\n",
       "    }\n",
       "</style>\n",
       "<table border=\"1\" class=\"dataframe\">\n",
       "  <thead>\n",
       "    <tr style=\"text-align: right;\">\n",
       "      <th></th>\n",
       "      <th>X</th>\n",
       "      <th>Y</th>\n",
       "      <th>Index_</th>\n",
       "      <th>Event_Unique_ID</th>\n",
       "      <th>Occurrence_year</th>\n",
       "      <th>Division</th>\n",
       "      <th>Homicide_Type</th>\n",
       "      <th>Occurrence_Date</th>\n",
       "      <th>Hood_ID</th>\n",
       "      <th>Neighbourhood</th>\n",
       "      <th>Lat</th>\n",
       "      <th>Long</th>\n",
       "      <th>ObjectId</th>\n",
       "      <th>month</th>\n",
       "    </tr>\n",
       "  </thead>\n",
       "  <tbody>\n",
       "    <tr>\n",
       "      <td>0</td>\n",
       "      <td>-79.392853</td>\n",
       "      <td>43.685028</td>\n",
       "      <td>1</td>\n",
       "      <td>111878</td>\n",
       "      <td>2004</td>\n",
       "      <td>D53</td>\n",
       "      <td>Other</td>\n",
       "      <td>2004-01-03T05:00:00.000Z</td>\n",
       "      <td>98</td>\n",
       "      <td>Rosedale-Moore Park (98)</td>\n",
       "      <td>43.685028</td>\n",
       "      <td>-79.392853</td>\n",
       "      <td>1</td>\n",
       "      <td>jan</td>\n",
       "    </tr>\n",
       "    <tr>\n",
       "      <td>1</td>\n",
       "      <td>-79.234962</td>\n",
       "      <td>43.781536</td>\n",
       "      <td>2</td>\n",
       "      <td>125755</td>\n",
       "      <td>2004</td>\n",
       "      <td>D42</td>\n",
       "      <td>Shooting</td>\n",
       "      <td>2004-01-08T05:00:00.000Z</td>\n",
       "      <td>137</td>\n",
       "      <td>Woburn (137)</td>\n",
       "      <td>43.781536</td>\n",
       "      <td>-79.234962</td>\n",
       "      <td>2</td>\n",
       "      <td>jan</td>\n",
       "    </tr>\n",
       "    <tr>\n",
       "      <td>2</td>\n",
       "      <td>-79.206894</td>\n",
       "      <td>43.810860</td>\n",
       "      <td>3</td>\n",
       "      <td>136086</td>\n",
       "      <td>2004</td>\n",
       "      <td>D42</td>\n",
       "      <td>Shooting</td>\n",
       "      <td>2004-01-08T05:00:00.000Z</td>\n",
       "      <td>132</td>\n",
       "      <td>Malvern (132)</td>\n",
       "      <td>43.810860</td>\n",
       "      <td>-79.206894</td>\n",
       "      <td>3</td>\n",
       "      <td>jan</td>\n",
       "    </tr>\n",
       "    <tr>\n",
       "      <td>3</td>\n",
       "      <td>-79.434403</td>\n",
       "      <td>43.670475</td>\n",
       "      <td>4</td>\n",
       "      <td>148623</td>\n",
       "      <td>2004</td>\n",
       "      <td>D13</td>\n",
       "      <td>Shooting</td>\n",
       "      <td>2004-01-25T05:00:00.000Z</td>\n",
       "      <td>93</td>\n",
       "      <td>Dovercourt-Wallace Emerson-Junction (93)</td>\n",
       "      <td>43.670475</td>\n",
       "      <td>-79.434403</td>\n",
       "      <td>4</td>\n",
       "      <td>jan</td>\n",
       "    </tr>\n",
       "    <tr>\n",
       "      <td>4</td>\n",
       "      <td>-79.203865</td>\n",
       "      <td>43.823543</td>\n",
       "      <td>5</td>\n",
       "      <td>148619</td>\n",
       "      <td>2004</td>\n",
       "      <td>D42</td>\n",
       "      <td>Shooting</td>\n",
       "      <td>2004-01-25T05:00:00.000Z</td>\n",
       "      <td>131</td>\n",
       "      <td>Rouge (131)</td>\n",
       "      <td>43.823543</td>\n",
       "      <td>-79.203865</td>\n",
       "      <td>5</td>\n",
       "      <td>jan</td>\n",
       "    </tr>\n",
       "  </tbody>\n",
       "</table>\n",
       "</div>"
      ],
      "text/plain": [
       "           X          Y  Index_ Event_Unique_ID  Occurrence_year Division  \\\n",
       "0 -79.392853  43.685028       1          111878             2004      D53   \n",
       "1 -79.234962  43.781536       2          125755             2004      D42   \n",
       "2 -79.206894  43.810860       3          136086             2004      D42   \n",
       "3 -79.434403  43.670475       4          148623             2004      D13   \n",
       "4 -79.203865  43.823543       5          148619             2004      D42   \n",
       "\n",
       "  Homicide_Type           Occurrence_Date  Hood_ID  \\\n",
       "0         Other  2004-01-03T05:00:00.000Z       98   \n",
       "1      Shooting  2004-01-08T05:00:00.000Z      137   \n",
       "2      Shooting  2004-01-08T05:00:00.000Z      132   \n",
       "3      Shooting  2004-01-25T05:00:00.000Z       93   \n",
       "4      Shooting  2004-01-25T05:00:00.000Z      131   \n",
       "\n",
       "                              Neighbourhood        Lat       Long  ObjectId  \\\n",
       "0                  Rosedale-Moore Park (98)  43.685028 -79.392853         1   \n",
       "1                              Woburn (137)  43.781536 -79.234962         2   \n",
       "2                             Malvern (132)  43.810860 -79.206894         3   \n",
       "3  Dovercourt-Wallace Emerson-Junction (93)  43.670475 -79.434403         4   \n",
       "4                               Rouge (131)  43.823543 -79.203865         5   \n",
       "\n",
       "  month  \n",
       "0   jan  \n",
       "1   jan  \n",
       "2   jan  \n",
       "3   jan  \n",
       "4   jan  "
      ]
     },
     "execution_count": 50,
     "metadata": {},
     "output_type": "execute_result"
    }
   ],
   "source": [
    "homicide.head()"
   ]
  },
  {
   "cell_type": "code",
   "execution_count": 31,
   "metadata": {},
   "outputs": [
    {
     "data": {
      "text/plain": [
       "Neighbourhood\n",
       "Kingsway South (15)                       1\n",
       "Yonge-Eglinton (100)                      1\n",
       "Newtonbrook West (36)                     1\n",
       "Bayview Woods-Steeles (49)                1\n",
       "Runnymede-Bloor West Village (89)         2\n",
       "                                         ..\n",
       "Rouge (131)                              24\n",
       "Malvern (132)                            25\n",
       "Moss Park (73)                           26\n",
       "Glenfield-Jane Heights (25)              27\n",
       "Mount Olive-Silverstone-Jamestown (2)    29\n",
       "Name: Index_, Length: 130, dtype: int64"
      ]
     },
     "execution_count": 31,
     "metadata": {},
     "output_type": "execute_result"
    }
   ],
   "source": [
    "#list five safest neighborhoods\n",
    "homicide.groupby('Neighbourhood')['Index_'].count().sort_values()"
   ]
  },
  {
   "cell_type": "code",
   "execution_count": 28,
   "metadata": {},
   "outputs": [
    {
     "data": {
      "text/plain": [
       "Neighbourhood\n",
       "Downsview-Roding-CFB (26)      8\n",
       "South Riverdale (70)           7\n",
       "Thorncliffe Park (55)          5\n",
       "Woburn (137)                   5\n",
       "Glenfield-Jane Heights (25)    5\n",
       "                              ..\n",
       "Hillcrest Village (48)         1\n",
       "Highland Creek (134)           1\n",
       "High Park-Swansea (87)         1\n",
       "High Park North (88)           1\n",
       "Agincourt North (129)          1\n",
       "Name: Homicide_Type, Length: 97, dtype: int64"
      ]
     },
     "execution_count": 28,
     "metadata": {},
     "output_type": "execute_result"
    }
   ],
   "source": [
    "#which neighborhood had the highest number of stabbings\n",
    "homicide[homicide['Homicide_Type']=='Stabbing'].groupby('Neighbourhood')['Homicide_Type'].count().sort_values(ascending=False)"
   ]
  },
  {
   "cell_type": "code",
   "execution_count": 10,
   "metadata": {},
   "outputs": [],
   "source": [
    "#(optional)list the homicides by year\n",
    "#hint - one way to do this is to create new column called year, get the yar from the occurence date,\n",
    "#then group by your new year column\n",
    "\n"
   ]
  }
 ],
 "metadata": {
  "kernelspec": {
   "display_name": "Python 3",
   "language": "python",
   "name": "python3"
  },
  "language_info": {
   "codemirror_mode": {
    "name": "ipython",
    "version": 3
   },
   "file_extension": ".py",
   "mimetype": "text/x-python",
   "name": "python",
   "nbconvert_exporter": "python",
   "pygments_lexer": "ipython3",
   "version": "3.7.4"
  }
 },
 "nbformat": 4,
 "nbformat_minor": 2
}
